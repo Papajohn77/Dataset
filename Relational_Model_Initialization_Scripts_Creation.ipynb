{
 "cells": [
  {
   "cell_type": "markdown",
   "id": "d7180f54",
   "metadata": {},
   "source": [
    "# Relational Model Initialization Scripts Creation"
   ]
  },
  {
   "cell_type": "markdown",
   "id": "f3c50296",
   "metadata": {},
   "source": [
    "- First of all we need to import the necessary libraries."
   ]
  },
  {
   "cell_type": "code",
   "execution_count": 1,
   "id": "fdfea0b5",
   "metadata": {},
   "outputs": [],
   "source": [
    "import pandas as pd"
   ]
  },
  {
   "cell_type": "markdown",
   "id": "c3ebd3af",
   "metadata": {},
   "source": [
    "- We will use initialization scripts to load the data into the database. The `postgis/postgis` image is based on the official `postgres` image with the addition of the PostGIS extensions. As per the documentation, initialization scripts will be executed in sorted name order. The `postgis/postgis` image already has an initialization script named `10_postgis.sh` that installs the PostGIS extensions. Also, we need an sql script that will create the tables to which we will insert the data, this file will be named `11_schema.sql`. For this reason we will name the sql scripts used for the data loading using the numbers `12-16`. Finally, we will also use an sql script named `17_indexes.sql` that will create the necessary indexes."
   ]
  },
  {
   "cell_type": "code",
   "execution_count": 2,
   "id": "59ad6c2b",
   "metadata": {},
   "outputs": [],
   "source": [
    "script_num = {\n",
    "    'stores': 12,\n",
    "    'products_1': 13,\n",
    "    'products_2': 14,\n",
    "    'products_3': 15,\n",
    "    'products_4': 16\n",
    "}"
   ]
  },
  {
   "cell_type": "markdown",
   "id": "b6607aea",
   "metadata": {},
   "source": [
    "- We will read the store datasets."
   ]
  },
  {
   "cell_type": "code",
   "execution_count": 3,
   "id": "408db95f",
   "metadata": {},
   "outputs": [],
   "source": [
    "stores_df_50k = pd.read_csv('./datasets/stores_50k.csv')\n",
    "stores_df_100k = pd.read_csv('./datasets/stores_100k.csv')\n",
    "stores_df = pd.read_csv('./datasets/stores_full.csv')"
   ]
  },
  {
   "cell_type": "markdown",
   "id": "79a12575",
   "metadata": {},
   "source": [
    "- We will create a script that will be used to insert the stores into the `Stores` table in the database."
   ]
  },
  {
   "cell_type": "code",
   "execution_count": 4,
   "id": "1734e464",
   "metadata": {},
   "outputs": [],
   "source": [
    "def create_sql_insert_stores_script(df, dataset_size):\n",
    "    quote = \"'\"\n",
    "    escaped_quote = \"''\"\n",
    "    with open(f'./sql_scripts/{dataset_size}/{script_num[\"stores\"]}_stores.sql', 'w', encoding='utf-8') as stores_file:\n",
    "        stores_file.write('INSERT INTO Stores (id, name, description, address, city, state, postal_code, location)\\nVALUES\\n')\n",
    "        for idx, store in df.iterrows():\n",
    "            stores_file.write(f'''\\t({store[\"id\"]}, '{store[\"name\"]}', '{store[\"description\"]}', '{store[\"address\"].replace(quote, escaped_quote)}', '{store[\"city\"].replace(quote, escaped_quote)}', '{store[\"state\"]}', '{store[\"postal_code\"]}', ST_MakePoint({store[\"longitude\"]}, {store[\"latitude\"]})::geography){',' if idx != (len(df) - 1) else ';'}\\n''')"
   ]
  },
  {
   "cell_type": "code",
   "execution_count": 5,
   "id": "9e3df952",
   "metadata": {},
   "outputs": [],
   "source": [
    "create_sql_insert_stores_script(stores_df_50k, dataset_size='50k')\n",
    "create_sql_insert_stores_script(stores_df_100k, dataset_size='100k')\n",
    "create_sql_insert_stores_script(stores_df, dataset_size='full')"
   ]
  },
  {
   "cell_type": "markdown",
   "id": "6c42fd3a",
   "metadata": {},
   "source": [
    "- We will read the product datasets."
   ]
  },
  {
   "cell_type": "code",
   "execution_count": 6,
   "id": "50d916da",
   "metadata": {},
   "outputs": [],
   "source": [
    "products_df_50k = pd.read_csv('./datasets/products_50k.csv')\n",
    "products_df_100k = pd.read_csv('./datasets/products_100k.csv')\n",
    "products_df = pd.read_csv('./datasets/products_full.csv')"
   ]
  },
  {
   "cell_type": "markdown",
   "id": "314a3083",
   "metadata": {},
   "source": [
    "- We will create 4 equal sized scripts that will be used to insert the products into the `Products` table in the database."
   ]
  },
  {
   "cell_type": "code",
   "execution_count": 7,
   "id": "14f32590",
   "metadata": {},
   "outputs": [],
   "source": [
    "def create_sql_insert_products_scripts(df, dataset_size, num_files=4):\n",
    "    chunk_size = len(df) // num_files\n",
    "    for i in range(num_files):\n",
    "        start = i * chunk_size\n",
    "        end = (i + 1) * chunk_size if i < num_files - 1 else len(df)\n",
    "        chunk = df.iloc[start:end]\n",
    "        with open(f'./sql_scripts/{dataset_size}/{script_num[f\"products_{i+1}\"]}_products_{i+1}.sql', 'w', encoding='utf-8') as products_file:\n",
    "            products_file.write('INSERT INTO Products (id, name, description, price, calories, carbs, fat, protein, store_id)\\nVALUES\\n')\n",
    "            for idx, product in chunk.iterrows():\n",
    "                products_file.write(f'''\\t({product[\"id\"]}, '{product[\"name\"]}', '{product[\"description\"]}', {product[\"price\"]}, {product[\"calories\"]}, {product[\"protein\"]}, {product[\"carbs\"]}, {product[\"fat\"]}, {product[\"store_id\"]}){',' if idx != (end - 1) else ';'}\\n''')"
   ]
  },
  {
   "cell_type": "code",
   "execution_count": 8,
   "id": "08485fce",
   "metadata": {},
   "outputs": [],
   "source": [
    "create_sql_insert_products_scripts(products_df_50k, dataset_size='50k')\n",
    "create_sql_insert_products_scripts(products_df_100k, dataset_size='100k')\n",
    "create_sql_insert_products_scripts(products_df, dataset_size='full')"
   ]
  },
  {
   "cell_type": "code",
   "execution_count": null,
   "id": "0d67ca75",
   "metadata": {},
   "outputs": [],
   "source": []
  }
 ],
 "metadata": {
  "kernelspec": {
   "display_name": "Python 3 (ipykernel)",
   "language": "python",
   "name": "python3"
  },
  "language_info": {
   "codemirror_mode": {
    "name": "ipython",
    "version": 3
   },
   "file_extension": ".py",
   "mimetype": "text/x-python",
   "name": "python",
   "nbconvert_exporter": "python",
   "pygments_lexer": "ipython3",
   "version": "3.10.8"
  }
 },
 "nbformat": 4,
 "nbformat_minor": 5
}
